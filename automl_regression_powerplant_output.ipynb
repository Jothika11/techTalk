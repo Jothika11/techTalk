{
 "cells": [
  {
   "cell_type": "markdown",
   "metadata": {},
   "source": [
    "# H2O AutoML Regression Demo\n",
    "\n",
    "This is a [Jupyter](https://jupyter.org/) Notebook. When you execute code within the notebook, the results appear beneath the code. To execute a code chunk, place your cursor on the cell and press *Shift+Enter*. \n",
    "\n",
    "### Start H2O\n",
    "\n",
    "Import the **h2o** Python module and `H2OAutoML` class and initialize a local H2O cluster."
   ]
  },
  {
   "cell_type": "code",
   "execution_count": 1,
   "metadata": {},
   "outputs": [
    {
     "name": "stdout",
     "output_type": "stream",
     "text": [
      "Checking whether there is an H2O instance running at http://localhost:54321 ..... not found.\n",
      "Attempting to start a local H2O server...\n",
      "  Java Version: openjdk version \"11.0.8\" 2020-07-14; OpenJDK Runtime Environment (build 11.0.8+10-post-Ubuntu-0ubuntu118.04.1); OpenJDK 64-Bit Server VM (build 11.0.8+10-post-Ubuntu-0ubuntu118.04.1, mixed mode, sharing)\n",
      "  Starting server from /home/krishna/.local/lib/python3.7/site-packages/h2o/backend/bin/h2o.jar\n",
      "  Ice root: /tmp/tmpn1363shb\n",
      "  JVM stdout: /tmp/tmpn1363shb/h2o_krishna_started_from_python.out\n",
      "  JVM stderr: /tmp/tmpn1363shb/h2o_krishna_started_from_python.err\n",
      "  Server is running at http://127.0.0.1:54321\n",
      "Connecting to H2O server at http://127.0.0.1:54321 ... successful.\n",
      "Warning: Your H2O cluster version is too old (1 year, 1 month and 19 days)! Please download and install the latest version from http://h2o.ai/download/\n"
     ]
    },
    {
     "data": {
      "text/html": [
       "<div style=\"overflow:auto\"><table style=\"width:50%\"><tr><td>H2O cluster uptime:</td>\n",
       "<td>03 secs</td></tr>\n",
       "<tr><td>H2O cluster timezone:</td>\n",
       "<td>Asia/Kolkata</td></tr>\n",
       "<tr><td>H2O data parsing timezone:</td>\n",
       "<td>UTC</td></tr>\n",
       "<tr><td>H2O cluster version:</td>\n",
       "<td>3.26.0.2</td></tr>\n",
       "<tr><td>H2O cluster version age:</td>\n",
       "<td>1 year, 1 month and 19 days !!!</td></tr>\n",
       "<tr><td>H2O cluster name:</td>\n",
       "<td>H2O_from_python_krishna_ohir23</td></tr>\n",
       "<tr><td>H2O cluster total nodes:</td>\n",
       "<td>1</td></tr>\n",
       "<tr><td>H2O cluster free memory:</td>\n",
       "<td>3.848 Gb</td></tr>\n",
       "<tr><td>H2O cluster total cores:</td>\n",
       "<td>4</td></tr>\n",
       "<tr><td>H2O cluster allowed cores:</td>\n",
       "<td>4</td></tr>\n",
       "<tr><td>H2O cluster status:</td>\n",
       "<td>accepting new members, healthy</td></tr>\n",
       "<tr><td>H2O connection url:</td>\n",
       "<td>http://127.0.0.1:54321</td></tr>\n",
       "<tr><td>H2O connection proxy:</td>\n",
       "<td>None</td></tr>\n",
       "<tr><td>H2O internal security:</td>\n",
       "<td>False</td></tr>\n",
       "<tr><td>H2O API Extensions:</td>\n",
       "<td>Amazon S3, XGBoost, Algos, AutoML, Core V3, Core V4</td></tr>\n",
       "<tr><td>Python version:</td>\n",
       "<td>3.7.3 final</td></tr></table></div>"
      ],
      "text/plain": [
       "--------------------------  ---------------------------------------------------\n",
       "H2O cluster uptime:         03 secs\n",
       "H2O cluster timezone:       Asia/Kolkata\n",
       "H2O data parsing timezone:  UTC\n",
       "H2O cluster version:        3.26.0.2\n",
       "H2O cluster version age:    1 year, 1 month and 19 days !!!\n",
       "H2O cluster name:           H2O_from_python_krishna_ohir23\n",
       "H2O cluster total nodes:    1\n",
       "H2O cluster free memory:    3.848 Gb\n",
       "H2O cluster total cores:    4\n",
       "H2O cluster allowed cores:  4\n",
       "H2O cluster status:         accepting new members, healthy\n",
       "H2O connection url:         http://127.0.0.1:54321\n",
       "H2O connection proxy:\n",
       "H2O internal security:      False\n",
       "H2O API Extensions:         Amazon S3, XGBoost, Algos, AutoML, Core V3, Core V4\n",
       "Python version:             3.7.3 final\n",
       "--------------------------  ---------------------------------------------------"
      ]
     },
     "metadata": {},
     "output_type": "display_data"
    }
   ],
   "source": [
    "import h2o\n",
    "from h2o.automl import H2OAutoML\n",
    "h2o.init()"
   ]
  },
  {
   "cell_type": "markdown",
   "metadata": {},
   "source": [
    "### Load Data\n",
    "\n",
    "We will use the [Combined Cycle Power Plant](http://archive.ics.uci.edu/ml/datasets/Combined+Cycle+Power+Plant) dataset.  \n",
    "Input variables:\n",
    "temperature, ambient pressure, relative humidity and exhaust vacuum values.  \n",
    "Output variable:\n",
    "HourlyEnergyOutput in MW"
   ]
  },
  {
   "cell_type": "code",
   "execution_count": 2,
   "metadata": {},
   "outputs": [
    {
     "name": "stdout",
     "output_type": "stream",
     "text": [
      "Parse progress: |█████████████████████████████████████████████████████████| 100%\n"
     ]
    }
   ],
   "source": [
    "filename = \"datasets/powerplant_output.csv\"\n",
    "df = h2o.import_file(filename)"
   ]
  },
  {
   "cell_type": "markdown",
   "metadata": {},
   "source": [
    "Let's take a look at the data."
   ]
  },
  {
   "cell_type": "code",
   "execution_count": 3,
   "metadata": {},
   "outputs": [
    {
     "name": "stdout",
     "output_type": "stream",
     "text": [
      "Rows:9568\n",
      "Cols:5\n",
      "\n",
      "\n"
     ]
    },
    {
     "data": {
      "text/html": [
       "<table>\n",
       "<thead>\n",
       "<tr><th>       </th><th>TemperatureCelcius  </th><th>ExhaustVacuumHg  </th><th>AmbientPressureMillibar  </th><th>RelativeHumidity  </th><th>HourlyEnergyOutputMW  </th></tr>\n",
       "</thead>\n",
       "<tbody>\n",
       "<tr><td>type   </td><td>real                </td><td>real             </td><td>real                     </td><td>real              </td><td>real                  </td></tr>\n",
       "<tr><td>mins   </td><td>1.81                </td><td>25.36            </td><td>992.89                   </td><td>25.56             </td><td>420.26                </td></tr>\n",
       "<tr><td>mean   </td><td>19.651231187290964  </td><td>54.30580372073579</td><td>1013.2590781772575       </td><td>73.30897784280938 </td><td>454.36500940635455    </td></tr>\n",
       "<tr><td>maxs   </td><td>37.11               </td><td>81.56            </td><td>1033.3                   </td><td>100.16            </td><td>495.76                </td></tr>\n",
       "<tr><td>sigma  </td><td>7.452473229611079   </td><td>12.70789299832681</td><td>5.938783705811606        </td><td>14.600268756728953</td><td>17.066994999803413    </td></tr>\n",
       "<tr><td>zeros  </td><td>0                   </td><td>0                </td><td>0                        </td><td>0                 </td><td>0                     </td></tr>\n",
       "<tr><td>missing</td><td>0                   </td><td>0                </td><td>0                        </td><td>0                 </td><td>0                     </td></tr>\n",
       "<tr><td>0      </td><td>14.96               </td><td>41.76            </td><td>1024.07                  </td><td>73.17             </td><td>463.26                </td></tr>\n",
       "<tr><td>1      </td><td>25.18               </td><td>62.96            </td><td>1020.04                  </td><td>59.08             </td><td>444.37                </td></tr>\n",
       "<tr><td>2      </td><td>5.11                </td><td>39.4             </td><td>1012.16                  </td><td>92.14             </td><td>488.56                </td></tr>\n",
       "<tr><td>3      </td><td>20.86               </td><td>57.32            </td><td>1010.24                  </td><td>76.64             </td><td>446.48                </td></tr>\n",
       "<tr><td>4      </td><td>10.82               </td><td>37.5             </td><td>1009.23                  </td><td>96.62             </td><td>473.9                 </td></tr>\n",
       "<tr><td>5      </td><td>26.27               </td><td>59.44            </td><td>1012.23                  </td><td>58.77             </td><td>443.67                </td></tr>\n",
       "<tr><td>6      </td><td>15.89               </td><td>43.96            </td><td>1014.02                  </td><td>75.24             </td><td>467.35                </td></tr>\n",
       "<tr><td>7      </td><td>9.48                </td><td>44.71            </td><td>1019.12                  </td><td>66.43             </td><td>478.42                </td></tr>\n",
       "<tr><td>8      </td><td>14.64               </td><td>45.0             </td><td>1021.78                  </td><td>41.25             </td><td>475.98                </td></tr>\n",
       "<tr><td>9      </td><td>11.74               </td><td>43.56            </td><td>1015.14                  </td><td>70.72             </td><td>477.5                 </td></tr>\n",
       "</tbody>\n",
       "</table>"
      ]
     },
     "metadata": {},
     "output_type": "display_data"
    }
   ],
   "source": [
    "df.describe()"
   ]
  },
  {
   "cell_type": "code",
   "execution_count": 4,
   "metadata": {},
   "outputs": [],
   "source": [
    "y = \"HourlyEnergyOutputMW\"\n",
    "\n",
    "#No need to specify x argument. \n",
    "#All columns other than y are treated as input variables or features"
   ]
  },
  {
   "cell_type": "code",
   "execution_count": 5,
   "metadata": {},
   "outputs": [],
   "source": [
    "#Split the data into 70% for training and 30% for testing.\n",
    "#Training data is used for model building and \n",
    "#Test data will be used to assess the quality metrics of the model\n",
    "splits = df.split_frame(ratios = [0.7], seed = 1)\n",
    "train = splits[0]\n",
    "test = splits[1]"
   ]
  },
  {
   "cell_type": "markdown",
   "metadata": {},
   "source": [
    "## Run AutoML \n",
    "\n",
    "`max_runtime_secs` argument = model building will not run beyond this time. \n",
    "\n",
    "The `test` frame = data on which quality metrics needs to be computed to arrive at  `leaderboard_frame`"
   ]
  },
  {
   "cell_type": "code",
   "execution_count": 6,
   "metadata": {},
   "outputs": [
    {
     "name": "stdout",
     "output_type": "stream",
     "text": [
      "AutoML progress: |████████████████████████████████████████████████████████| 100%\n"
     ]
    }
   ],
   "source": [
    "aml = H2OAutoML(max_runtime_secs = 60, seed = 1, project_name = \"powerplant_lb_frame\")\n",
    "aml.train(y = y, training_frame = train, leaderboard_frame = test)"
   ]
  },
  {
   "cell_type": "markdown",
   "metadata": {},
   "source": [
    "*Note: If you see the following error, it means that you need to install the pandas module.*\n",
    "```\n",
    "H2OTypeError: Argument `python_obj` should be a None | list | tuple | dict | numpy.ndarray | pandas.DataFrame | scipy.sparse.issparse, got H2OTwoDimTable \n",
    "``` "
   ]
  },
  {
   "cell_type": "code",
   "execution_count": 7,
   "metadata": {},
   "outputs": [
    {
     "data": {
      "text/html": [
       "<table>\n",
       "<thead>\n",
       "<tr><th>model_id                                           </th><th style=\"text-align: right;\">  mean_residual_deviance</th><th style=\"text-align: right;\">     rmse</th><th style=\"text-align: right;\">       mse</th><th style=\"text-align: right;\">      mae</th><th style=\"text-align: right;\">     rmsle</th></tr>\n",
       "</thead>\n",
       "<tbody>\n",
       "<tr><td>XGBoost_1_AutoML_20200915_120529                   </td><td style=\"text-align: right;\">                 10.8828</td><td style=\"text-align: right;\">  3.29891</td><td style=\"text-align: right;\">   10.8828</td><td style=\"text-align: right;\">  2.38014</td><td style=\"text-align: right;\">0.00727403</td></tr>\n",
       "<tr><td>StackedEnsemble_BestOfFamily_AutoML_20200915_120529</td><td style=\"text-align: right;\">                 10.9836</td><td style=\"text-align: right;\">  3.31416</td><td style=\"text-align: right;\">   10.9836</td><td style=\"text-align: right;\">  2.40979</td><td style=\"text-align: right;\">0.00730677</td></tr>\n",
       "<tr><td>StackedEnsemble_AllModels_AutoML_20200915_120529   </td><td style=\"text-align: right;\">                 11.3797</td><td style=\"text-align: right;\">  3.37339</td><td style=\"text-align: right;\">   11.3797</td><td style=\"text-align: right;\">  2.46036</td><td style=\"text-align: right;\">0.00744631</td></tr>\n",
       "<tr><td>XGBoost_2_AutoML_20200915_120529                   </td><td style=\"text-align: right;\">                 19.1693</td><td style=\"text-align: right;\">  4.37827</td><td style=\"text-align: right;\">   19.1693</td><td style=\"text-align: right;\">  3.43954</td><td style=\"text-align: right;\">0.00960476</td></tr>\n",
       "<tr><td>XGBoost_3_AutoML_20200915_120529                   </td><td style=\"text-align: right;\">              29500.3   </td><td style=\"text-align: right;\">171.757  </td><td style=\"text-align: right;\">29500.3   </td><td style=\"text-align: right;\">171.486  </td><td style=\"text-align: right;\">0.47233   </td></tr>\n",
       "</tbody>\n",
       "</table>"
      ]
     },
     "metadata": {},
     "output_type": "display_data"
    },
    {
     "data": {
      "text/plain": []
     },
     "execution_count": 7,
     "metadata": {},
     "output_type": "execute_result"
    }
   ],
   "source": [
    "#\n",
    "# Print the Leader board of good models \n",
    "#\n",
    "aml.leaderboard.head()"
   ]
  },
  {
   "cell_type": "markdown",
   "metadata": {},
   "source": [
    "So the Top model used XGBoost algorithm"
   ]
  },
  {
   "cell_type": "markdown",
   "metadata": {},
   "source": [
    "This dataset comes from the [UCI Machine Learning Repository](http://archive.ics.uci.edu/ml/datasets/Combined+Cycle+Power+Plant) of machine learning datasets.  The data was used in a [publication](https://www.sciencedirect.com/science/article/pii/S0142061514000908) in the *International Journal of Electrical Power & Energy Systems* in 2014.  In the paper, mean absolute error (MAE) is 2.818 and a Root Mean-Squared Error (RMSE) is 3.787. H2o leader board model has beaten these metrics(compared with the leader at 1st row)."
   ]
  },
  {
   "cell_type": "markdown",
   "metadata": {},
   "source": [
    "## Predict Using Leader Model\n",
    "\n",
    "If you need to generate predictions on a test set, you can make predictions on the `\"H2OAutoML\"` object directly, or on the leader model object."
   ]
  },
  {
   "cell_type": "code",
   "execution_count": 8,
   "metadata": {},
   "outputs": [
    {
     "name": "stdout",
     "output_type": "stream",
     "text": [
      "xgboost prediction progress: |████████████████████████████████████████████| 100%\n"
     ]
    },
    {
     "data": {
      "text/html": [
       "<table>\n",
       "<thead>\n",
       "<tr><th style=\"text-align: right;\">  predict</th></tr>\n",
       "</thead>\n",
       "<tbody>\n",
       "<tr><td style=\"text-align: right;\">  485.749</td></tr>\n",
       "<tr><td style=\"text-align: right;\">  473.517</td></tr>\n",
       "</tbody>\n",
       "</table>"
      ]
     },
     "metadata": {},
     "output_type": "display_data"
    },
    {
     "name": "stdout",
     "output_type": "stream",
     "text": [
      "\n"
     ]
    }
   ],
   "source": [
    "pred = aml.predict(test)\n",
    "print(pred.head(2))"
   ]
  },
  {
   "cell_type": "code",
   "execution_count": 9,
   "metadata": {},
   "outputs": [
    {
     "name": "stdout",
     "output_type": "stream",
     "text": [
      "\n",
      "ModelMetricsRegression: xgboost\n",
      "** Reported on test data. **\n",
      "\n",
      "MSE: 10.88278476366283\n",
      "RMSE: 3.2989066012336314\n",
      "MAE: 2.3801365480312664\n",
      "RMSLE: 0.007274030873983928\n",
      "Mean Residual Deviance: 10.88278476366283\n"
     ]
    },
    {
     "data": {
      "text/plain": []
     },
     "execution_count": 9,
     "metadata": {},
     "output_type": "execute_result"
    }
   ],
   "source": [
    "# \n",
    "# Print the model performance of the leader \n",
    "perf = aml.leader.model_performance(test)\n",
    "perf"
   ]
  },
  {
   "cell_type": "markdown",
   "metadata": {},
   "source": [
    "Acknowlegements: I prepared this notebook from https://github.com/navdeep-G/sdss-h2o-automl"
   ]
  }
 ],
 "metadata": {
  "kernelspec": {
   "display_name": "Python 3",
   "language": "python",
   "name": "python3"
  },
  "language_info": {
   "codemirror_mode": {
    "name": "ipython",
    "version": 3
   },
   "file_extension": ".py",
   "mimetype": "text/x-python",
   "name": "python",
   "nbconvert_exporter": "python",
   "pygments_lexer": "ipython3",
   "version": "3.7.3"
  }
 },
 "nbformat": 4,
 "nbformat_minor": 2
}
